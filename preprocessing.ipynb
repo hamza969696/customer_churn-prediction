{
 "cells": [
  {
   "cell_type": "code",
   "execution_count": null,
   "id": "10e98d4c",
   "metadata": {},
   "outputs": [],
   "source": [
    "import pandas as pd\n",
    "df = pd.read_csv('x_y_full.csv')"
   ]
  },
  {
   "cell_type": "code",
   "execution_count": null,
   "id": "374ec3c1",
   "metadata": {},
   "outputs": [],
   "source": [
    "y=df[['Churn_Value']]\n",
    "x=df[['Payment_Method_Bank transfer', 'Payment_Method_Credit card',\n",
    "       'Payment_Method_Electronic_check', 'Payment_Method_Mailed check',\n",
    "       'Contract_Month_to_month', 'Contract_One_year', 'Contract_Two_year',\n",
    "       'Streaming_Movies_No', 'Streaming_Movies_No_internet_service',\n",
    "       'Streaming_Movies_Yes', 'Streaming_TV_No',\n",
    "       'Streaming_TV_No internet service', 'Streaming_TV_Yes',\n",
    "       'Tech_Support_No', 'Tech_Support_No_internet_service',\n",
    "       'Tech_Support_Yes', 'Device_Protection_No',\n",
    "       'Device_Protection_No_internet_service', 'Device_Protection_Yes',\n",
    "       'Online_Backup_No', 'Online_Backup_No_internet service',\n",
    "       'Online_Backup_Yes', 'Online_Security_No',\n",
    "       'Online_Security_No_internet_service', 'Online_Security_Yes',\n",
    "       'Internet_Service_DSL', 'Internet_Service_Fiber_optic',\n",
    "       'Internet_Service_No', 'Multiple_Lines_No',\n",
    "       'Multiple_Lines_No_phone_service', 'Multiple_Lines_Yes',\n",
    "       'Gender_Female', 'Gender_Male', 'Senior_Citizen_No',\n",
    "       'Senior_Citizen_Yes', 'Partner_No', 'Partner_Yes', 'Dependents_No',\n",
    "       'Dependents_Yes', 'Phone_Service_No', 'Phone_Service_Yes',\n",
    "       'Paperless_Billing_No', 'Paperless_Billing_Yes', 'Tenure_Months',\n",
    "       'Monthly_Charges']]"
   ]
  },
  {
   "cell_type": "code",
   "execution_count": null,
   "id": "de774fb9",
   "metadata": {},
   "outputs": [],
   "source": [
    "from sklearn.preprocessing import StandardScaler\n",
    "X_train_feature_selection=X_train.copy()\n",
    "scaler = StandardScaler()\n",
    "scaler.fit(X_train_feature_selection[['Tenure_Months', 'Monthly_Charges']])\n",
    "X_train_feature_selection[['Tenure_Months', 'Monthly_Charges']] = scaler.transform(X_train_feature_selection[['Tenure_Months', 'Monthly_Charges']])\n"
   ]
  },
  {
   "cell_type": "code",
   "execution_count": null,
   "id": "79b9187c",
   "metadata": {},
   "outputs": [],
   "source": [
    "X_val_feature_selection=X_val.copy()\n",
    "scaler = StandardScaler()\n",
    "scaler.fit(X_val_feature_selection[['Tenure_Months', 'Monthly_Charges']])\n",
    "X_val_feature_selection[['Tenure_Months', 'Monthly_Charges']] = scaler.transform(X_val_feature_selection[['Tenure_Months', 'Monthly_Charges']])\n"
   ]
  },
  {
   "cell_type": "code",
   "execution_count": null,
   "id": "5ebc48dd",
   "metadata": {},
   "outputs": [],
   "source": [
    "X_test_feature_selection=X_test.copy()\n",
    "scaler = StandardScaler()\n",
    "scaler.fit(X_test_feature_selection[['Tenure_Months', 'Monthly_Charges']])\n",
    "X_test_feature_selection[['Tenure_Months', 'Monthly_Charges']] = scaler.transform(X_test_feature_selection[['Tenure_Months', 'Monthly_Charges']])\n"
   ]
  },
  {
   "cell_type": "code",
   "execution_count": null,
   "id": "1f904ce7",
   "metadata": {},
   "outputs": [],
   "source": [
    "from sklearn.feature_selection import SelectFromModel\n",
    "from sklearn.linear_model import Lasso, LogisticRegression\n",
    "\n",
    "lasso=LogisticRegression(penalty='l2',solver='liblinear')\n",
    "lasso.fit(X_train_feature_selection,y_train)"
   ]
  },
  {
   "cell_type": "code",
   "execution_count": null,
   "id": "167ba248",
   "metadata": {},
   "outputs": [],
   "source": [
    "#X variables for SVM(scaled)\n",
    "X_train_scaled=X_train_feature_selection[['Payment_Method_Electronic_check','Contract_Month_to_month','Streaming_TV_Yes','Tech_Support_No','Online_Backup_No',\n",
    "'Online_Security_No','Internet_Service_Fiber_optic','Multiple_Lines_Yes','Dependents_No','Paperless_Billing_Yes',\n",
    "                          'Monthly_Charges']]"
   ]
  },
  {
   "cell_type": "code",
   "execution_count": null,
   "id": "e67d51af",
   "metadata": {},
   "outputs": [],
   "source": [
    "X_train_DT=X_train[['Payment_Method_Electronic_check','Contract_Month_to_month','Streaming_TV_Yes','Tech_Support_No','Online_Backup_No',\n",
    "'Online_Security_No','Internet_Service_Fiber_optic','Multiple_Lines_Yes','Dependents_No','Paperless_Billing_Yes',\n",
    "                          'Monthly_Charges']]"
   ]
  },
  {
   "cell_type": "code",
   "execution_count": null,
   "id": "199e13f5",
   "metadata": {},
   "outputs": [],
   "source": [
    "X_val_scaled=X_val_feature_selection[['Payment_Method_Electronic_check','Contract_Month_to_month','Streaming_TV_Yes','Tech_Support_No','Online_Backup_No',\n",
    "'Online_Security_No','Internet_Service_Fiber_optic','Multiple_Lines_Yes','Dependents_No','Paperless_Billing_Yes',\n",
    "                          'Monthly_Charges']]"
   ]
  },
  {
   "cell_type": "code",
   "execution_count": null,
   "id": "723efceb",
   "metadata": {},
   "outputs": [],
   "source": [
    "X_val_DT=X_val[['Payment_Method_Electronic_check','Contract_Month_to_month','Streaming_TV_Yes','Tech_Support_No','Online_Backup_No',\n",
    "'Online_Security_No','Internet_Service_Fiber_optic','Multiple_Lines_Yes','Dependents_No','Paperless_Billing_Yes',\n",
    "                          'Monthly_Charges']]"
   ]
  },
  {
   "cell_type": "code",
   "execution_count": null,
   "id": "add15b79",
   "metadata": {},
   "outputs": [],
   "source": [
    "X_test_scaled=X_test_feature_selection[['Payment_Method_Electronic_check','Contract_Month_to_month','Streaming_TV_Yes','Tech_Support_No','Online_Backup_No',\n",
    "'Online_Security_No','Internet_Service_Fiber_optic','Multiple_Lines_Yes','Dependents_No','Paperless_Billing_Yes',\n",
    "                          'Monthly_Charges']]"
   ]
  },
  {
   "cell_type": "code",
   "execution_count": null,
   "id": "65536224",
   "metadata": {},
   "outputs": [],
   "source": [
    "X_test_DT=X_test[['Payment_Method_Electronic_check','Contract_Month_to_month','Streaming_TV_Yes','Tech_Support_No','Online_Backup_No',\n",
    "'Online_Security_No','Internet_Service_Fiber_optic','Multiple_Lines_Yes','Dependents_No','Paperless_Billing_Yes',\n",
    "                          'Monthly_Charges']]"
   ]
  },
  {
   "cell_type": "code",
   "execution_count": null,
   "id": "fbf1ae8a",
   "metadata": {},
   "outputs": [],
   "source": [
    "from imblearn import over_sampling\n",
    "from imblearn.over_sampling import RandomOverSampler\n",
    "\n",
    "ros = RandomOverSampler(random_state=0)\n",
    "x_resampled_train_dt,y_resampled_train=ros.fit_resample(X_train_DT,y_train)"
   ]
  },
  {
   "cell_type": "code",
   "execution_count": null,
   "id": "70b3a56e",
   "metadata": {},
   "outputs": [],
   "source": [
    "#oversampling scaled\n",
    "from imblearn import over_sampling\n",
    "from imblearn.over_sampling import RandomOverSampler\n",
    "\n",
    "ros = RandomOverSampler(random_state=0)\n",
    "x_resampled_train_scaled,y_train_scaled=ros.fit_resample(X_train_scaled,y_train)"
   ]
  },
  {
   "cell_type": "code",
   "execution_count": null,
   "id": "2d263e19",
   "metadata": {},
   "outputs": [],
   "source": []
  }
 ],
 "metadata": {
  "kernelspec": {
   "display_name": "Python 3 (ipykernel)",
   "language": "python",
   "name": "python3"
  },
  "language_info": {
   "codemirror_mode": {
    "name": "ipython",
    "version": 3
   },
   "file_extension": ".py",
   "mimetype": "text/x-python",
   "name": "python",
   "nbconvert_exporter": "python",
   "pygments_lexer": "ipython3",
   "version": "3.9.7"
  }
 },
 "nbformat": 4,
 "nbformat_minor": 5
}
