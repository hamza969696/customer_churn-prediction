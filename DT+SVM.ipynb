{
 "cells": [
  {
   "cell_type": "code",
   "execution_count": 1,
   "id": "3200f53e",
   "metadata": {},
   "outputs": [],
   "source": [
    "import pandas as pd\n",
    "df = pd.read_csv('x_y_full.csv')"
   ]
  },
  {
   "cell_type": "code",
   "execution_count": 2,
   "id": "a230d2f8",
   "metadata": {},
   "outputs": [],
   "source": [
    "y=df[['Churn_Value']]\n",
    "x=df[['Payment_Method_Bank transfer', 'Payment_Method_Credit card',\n",
    "       'Payment_Method_Electronic_check', 'Payment_Method_Mailed check',\n",
    "       'Contract_Month_to_month', 'Contract_One_year', 'Contract_Two_year',\n",
    "       'Streaming_Movies_No', 'Streaming_Movies_No_internet_service',\n",
    "       'Streaming_Movies_Yes', 'Streaming_TV_No',\n",
    "       'Streaming_TV_No internet service', 'Streaming_TV_Yes',\n",
    "       'Tech_Support_No', 'Tech_Support_No_internet_service',\n",
    "       'Tech_Support_Yes', 'Device_Protection_No',\n",
    "       'Device_Protection_No_internet_service', 'Device_Protection_Yes',\n",
    "       'Online_Backup_No', 'Online_Backup_No_internet service',\n",
    "       'Online_Backup_Yes', 'Online_Security_No',\n",
    "       'Online_Security_No_internet_service', 'Online_Security_Yes',\n",
    "       'Internet_Service_DSL', 'Internet_Service_Fiber_optic',\n",
    "       'Internet_Service_No', 'Multiple_Lines_No',\n",
    "       'Multiple_Lines_No_phone_service', 'Multiple_Lines_Yes',\n",
    "       'Gender_Female', 'Gender_Male', 'Senior_Citizen_No',\n",
    "       'Senior_Citizen_Yes', 'Partner_No', 'Partner_Yes', 'Dependents_No',\n",
    "       'Dependents_Yes', 'Phone_Service_No', 'Phone_Service_Yes',\n",
    "       'Paperless_Billing_No', 'Paperless_Billing_Yes', 'Tenure_Months',\n",
    "       'Monthly_Charges']]"
   ]
  },
  {
   "cell_type": "code",
   "execution_count": 113,
   "id": "b848f56f",
   "metadata": {},
   "outputs": [
    {
     "data": {
      "text/plain": [
       "0    5174\n",
       "1    1869\n",
       "Name: Churn_Value, dtype: int64"
      ]
     },
     "execution_count": 113,
     "metadata": {},
     "output_type": "execute_result"
    }
   ],
   "source": [
    "df['Churn_Value'].value_counts()"
   ]
  },
  {
   "cell_type": "code",
   "execution_count": null,
   "id": "00609696",
   "metadata": {},
   "outputs": [],
   "source": [
    "from sklearn.model_selection import train_test_split\n",
    "\n",
    "#split data into training and test\n",
    "X_train, X_test, y_train, y_test = train_test_split(x, y, test_size=0.2, random_state=42)\n",
    "\n",
    "# Split training set into training and validation sets (80% train, 20% validation)\n",
    "X_train, X_val, y_train, y_val = train_test_split(X_train, y_train, test_size=0.2, random_state=42)"
   ]
  },
  {
   "cell_type": "code",
   "execution_count": 4,
   "id": "30e007f6",
   "metadata": {},
   "outputs": [
    {
     "data": {
      "text/plain": [
       "(4507, 45)"
      ]
     },
     "execution_count": 4,
     "metadata": {},
     "output_type": "execute_result"
    }
   ],
   "source": [
    "X_train.shape"
   ]
  },
  {
   "cell_type": "code",
   "execution_count": 5,
   "id": "7009ecf6",
   "metadata": {},
   "outputs": [
    {
     "data": {
      "text/plain": [
       "(1409, 45)"
      ]
     },
     "execution_count": 5,
     "metadata": {},
     "output_type": "execute_result"
    }
   ],
   "source": [
    "X_test.shape"
   ]
  },
  {
   "cell_type": "code",
   "execution_count": 7,
   "id": "f8b512de",
   "metadata": {},
   "outputs": [],
   "source": [
    "from sklearn.preprocessing import StandardScaler\n",
    "X_train_feature_selection=X_train.copy()\n",
    "scaler = StandardScaler()\n",
    "scaler.fit(X_train_feature_selection[['Tenure_Months', 'Monthly_Charges']])\n",
    "X_train_feature_selection[['Tenure_Months', 'Monthly_Charges']] = scaler.transform(X_train_feature_selection[['Tenure_Months', 'Monthly_Charges']])\n"
   ]
  },
  {
   "cell_type": "code",
   "execution_count": 15,
   "id": "a6d3c79f",
   "metadata": {},
   "outputs": [],
   "source": [
    "X_val_feature_selection=X_val.copy()\n",
    "scaler = StandardScaler()\n",
    "scaler.fit(X_val_feature_selection[['Tenure_Months', 'Monthly_Charges']])\n",
    "X_val_feature_selection[['Tenure_Months', 'Monthly_Charges']] = scaler.transform(X_val_feature_selection[['Tenure_Months', 'Monthly_Charges']])\n"
   ]
  },
  {
   "cell_type": "code",
   "execution_count": 16,
   "id": "4b547bb5",
   "metadata": {},
   "outputs": [],
   "source": [
    "X_test_feature_selection=X_test.copy()\n",
    "scaler = StandardScaler()\n",
    "scaler.fit(X_test_feature_selection[['Tenure_Months', 'Monthly_Charges']])\n",
    "X_test_feature_selection[['Tenure_Months', 'Monthly_Charges']] = scaler.transform(X_test_feature_selection[['Tenure_Months', 'Monthly_Charges']])\n"
   ]
  },
  {
   "cell_type": "code",
   "execution_count": 8,
   "id": "459ba1c3",
   "metadata": {},
   "outputs": [
    {
     "name": "stderr",
     "output_type": "stream",
     "text": [
      "C:\\Users\\HP\\anaconda3\\envs\\Work\\lib\\site-packages\\sklearn\\utils\\validation.py:993: DataConversionWarning: A column-vector y was passed when a 1d array was expected. Please change the shape of y to (n_samples, ), for example using ravel().\n",
      "  y = column_or_1d(y, warn=True)\n"
     ]
    },
    {
     "data": {
      "text/plain": [
       "LogisticRegression(solver='liblinear')"
      ]
     },
     "execution_count": 8,
     "metadata": {},
     "output_type": "execute_result"
    }
   ],
   "source": [
    "from sklearn.feature_selection import SelectFromModel\n",
    "from sklearn.linear_model import Lasso, LogisticRegression\n",
    "\n",
    "lasso=LogisticRegression(penalty='l2',solver='liblinear')\n",
    "lasso.fit(X_train_feature_selection,y_train)"
   ]
  },
  {
   "cell_type": "code",
   "execution_count": 9,
   "id": "36e4dd22",
   "metadata": {},
   "outputs": [
    {
     "data": {
      "text/plain": [
       "array([[-1.60423230e-01, -2.56040632e-01,  1.59668553e-01,\n",
       "        -6.96910684e-02,  4.99780412e-01, -1.53924791e-01,\n",
       "        -6.72341998e-01, -1.37452427e-01, -1.79282273e-01,\n",
       "        -9.75167740e-03, -1.77586354e-01, -1.79282273e-01,\n",
       "         3.03822494e-02,  1.12156811e-01, -1.79282273e-01,\n",
       "        -2.59360916e-01, -8.56861842e-02, -1.79282273e-01,\n",
       "        -6.15179205e-02,  3.19251733e-04, -1.79282273e-01,\n",
       "        -1.47523356e-01,  1.38823893e-01, -1.79282273e-01,\n",
       "        -2.86027998e-01, -3.73481985e-01,  2.26277881e-01,\n",
       "        -1.79282273e-01, -3.34908532e-01, -5.22431467e-03,\n",
       "         1.36464688e-02, -1.49123735e-01, -1.77362642e-01,\n",
       "        -2.23504739e-01, -1.02981638e-01, -2.99899307e-01,\n",
       "        -2.65870707e-02,  5.47539789e-01, -8.74026166e-01,\n",
       "        -5.22431467e-03, -3.21262063e-01, -3.79825305e-01,\n",
       "         5.33389271e-02, -9.04551386e-01,  2.37110993e-01]])"
      ]
     },
     "execution_count": 9,
     "metadata": {},
     "output_type": "execute_result"
    }
   ],
   "source": [
    "lasso.coef_"
   ]
  },
  {
   "cell_type": "code",
   "execution_count": 46,
   "id": "772dbb4b",
   "metadata": {},
   "outputs": [],
   "source": [
    "#X variables for SVM(scaled)\n",
    "X_train_scaled=X_train_feature_selection[['Payment_Method_Electronic_check','Contract_Month_to_month','Streaming_TV_Yes','Tech_Support_No','Online_Backup_No',\n",
    "'Online_Security_No','Internet_Service_Fiber_optic','Multiple_Lines_Yes','Dependents_No','Paperless_Billing_Yes',\n",
    "                          'Monthly_Charges']]"
   ]
  },
  {
   "cell_type": "code",
   "execution_count": 13,
   "id": "e1d6aca5",
   "metadata": {},
   "outputs": [],
   "source": [
    "X_train_DT=X_train[['Payment_Method_Electronic_check','Contract_Month_to_month','Streaming_TV_Yes','Tech_Support_No','Online_Backup_No',\n",
    "'Online_Security_No','Internet_Service_Fiber_optic','Multiple_Lines_Yes','Dependents_No','Paperless_Billing_Yes',\n",
    "                          'Monthly_Charges']]"
   ]
  },
  {
   "cell_type": "code",
   "execution_count": 17,
   "id": "35da6c5d",
   "metadata": {},
   "outputs": [],
   "source": [
    "X_val_scaled=X_val_feature_selection[['Payment_Method_Electronic_check','Contract_Month_to_month','Streaming_TV_Yes','Tech_Support_No','Online_Backup_No',\n",
    "'Online_Security_No','Internet_Service_Fiber_optic','Multiple_Lines_Yes','Dependents_No','Paperless_Billing_Yes',\n",
    "                          'Monthly_Charges']]"
   ]
  },
  {
   "cell_type": "code",
   "execution_count": 18,
   "id": "d8226932",
   "metadata": {},
   "outputs": [],
   "source": [
    "X_val_DT=X_val[['Payment_Method_Electronic_check','Contract_Month_to_month','Streaming_TV_Yes','Tech_Support_No','Online_Backup_No',\n",
    "'Online_Security_No','Internet_Service_Fiber_optic','Multiple_Lines_Yes','Dependents_No','Paperless_Billing_Yes',\n",
    "                          'Monthly_Charges']]"
   ]
  },
  {
   "cell_type": "code",
   "execution_count": 19,
   "id": "1f07a393",
   "metadata": {},
   "outputs": [],
   "source": [
    "X_test_scaled=X_test_feature_selection[['Payment_Method_Electronic_check','Contract_Month_to_month','Streaming_TV_Yes','Tech_Support_No','Online_Backup_No',\n",
    "'Online_Security_No','Internet_Service_Fiber_optic','Multiple_Lines_Yes','Dependents_No','Paperless_Billing_Yes',\n",
    "                          'Monthly_Charges']]"
   ]
  },
  {
   "cell_type": "code",
   "execution_count": 20,
   "id": "94547b0f",
   "metadata": {},
   "outputs": [],
   "source": [
    "X_test_DT=X_test[['Payment_Method_Electronic_check','Contract_Month_to_month','Streaming_TV_Yes','Tech_Support_No','Online_Backup_No',\n",
    "'Online_Security_No','Internet_Service_Fiber_optic','Multiple_Lines_Yes','Dependents_No','Paperless_Billing_Yes',\n",
    "                          'Monthly_Charges']]"
   ]
  },
  {
   "cell_type": "code",
   "execution_count": 71,
   "id": "9e77c915",
   "metadata": {},
   "outputs": [],
   "source": [
    "from imblearn import over_sampling\n",
    "from imblearn.over_sampling import RandomOverSampler\n",
    "\n",
    "ros = RandomOverSampler(random_state=0)\n",
    "x_resampled_train_dt,y_resampled_train=ros.fit_resample(X_train_DT,y_train)"
   ]
  },
  {
   "cell_type": "code",
   "execution_count": 72,
   "id": "214c674f",
   "metadata": {},
   "outputs": [],
   "source": [
    "#oversampling scaled\n",
    "from imblearn import over_sampling\n",
    "from imblearn.over_sampling import RandomOverSampler\n",
    "\n",
    "ros = RandomOverSampler(random_state=0)\n",
    "x_resampled_train_scaled,y_train_scaled=ros.fit_resample(X_train_scaled,y_train)"
   ]
  },
  {
   "cell_type": "code",
   "execution_count": 74,
   "id": "ae6345c0",
   "metadata": {},
   "outputs": [
    {
     "data": {
      "text/html": [
       "<div>\n",
       "<style scoped>\n",
       "    .dataframe tbody tr th:only-of-type {\n",
       "        vertical-align: middle;\n",
       "    }\n",
       "\n",
       "    .dataframe tbody tr th {\n",
       "        vertical-align: top;\n",
       "    }\n",
       "\n",
       "    .dataframe thead th {\n",
       "        text-align: right;\n",
       "    }\n",
       "</style>\n",
       "<table border=\"1\" class=\"dataframe\">\n",
       "  <thead>\n",
       "    <tr style=\"text-align: right;\">\n",
       "      <th></th>\n",
       "      <th>Payment_Method_Electronic_check</th>\n",
       "      <th>Contract_Month_to_month</th>\n",
       "      <th>Streaming_TV_Yes</th>\n",
       "      <th>Tech_Support_No</th>\n",
       "      <th>Online_Backup_No</th>\n",
       "      <th>Online_Security_No</th>\n",
       "      <th>Internet_Service_Fiber_optic</th>\n",
       "      <th>Multiple_Lines_Yes</th>\n",
       "      <th>Dependents_No</th>\n",
       "      <th>Paperless_Billing_Yes</th>\n",
       "      <th>Monthly_Charges</th>\n",
       "    </tr>\n",
       "  </thead>\n",
       "  <tbody>\n",
       "    <tr>\n",
       "      <th>0</th>\n",
       "      <td>1</td>\n",
       "      <td>1</td>\n",
       "      <td>1</td>\n",
       "      <td>1</td>\n",
       "      <td>1</td>\n",
       "      <td>1</td>\n",
       "      <td>1</td>\n",
       "      <td>0</td>\n",
       "      <td>1</td>\n",
       "      <td>1</td>\n",
       "      <td>0.946231</td>\n",
       "    </tr>\n",
       "    <tr>\n",
       "      <th>1</th>\n",
       "      <td>0</td>\n",
       "      <td>1</td>\n",
       "      <td>0</td>\n",
       "      <td>0</td>\n",
       "      <td>1</td>\n",
       "      <td>1</td>\n",
       "      <td>1</td>\n",
       "      <td>1</td>\n",
       "      <td>1</td>\n",
       "      <td>1</td>\n",
       "      <td>0.479980</td>\n",
       "    </tr>\n",
       "    <tr>\n",
       "      <th>2</th>\n",
       "      <td>1</td>\n",
       "      <td>1</td>\n",
       "      <td>1</td>\n",
       "      <td>1</td>\n",
       "      <td>0</td>\n",
       "      <td>1</td>\n",
       "      <td>1</td>\n",
       "      <td>0</td>\n",
       "      <td>1</td>\n",
       "      <td>1</td>\n",
       "      <td>0.635950</td>\n",
       "    </tr>\n",
       "    <tr>\n",
       "      <th>3</th>\n",
       "      <td>0</td>\n",
       "      <td>0</td>\n",
       "      <td>1</td>\n",
       "      <td>0</td>\n",
       "      <td>0</td>\n",
       "      <td>0</td>\n",
       "      <td>1</td>\n",
       "      <td>1</td>\n",
       "      <td>1</td>\n",
       "      <td>1</td>\n",
       "      <td>1.634823</td>\n",
       "    </tr>\n",
       "    <tr>\n",
       "      <th>4</th>\n",
       "      <td>0</td>\n",
       "      <td>0</td>\n",
       "      <td>1</td>\n",
       "      <td>0</td>\n",
       "      <td>0</td>\n",
       "      <td>0</td>\n",
       "      <td>0</td>\n",
       "      <td>0</td>\n",
       "      <td>1</td>\n",
       "      <td>1</td>\n",
       "      <td>-0.032730</td>\n",
       "    </tr>\n",
       "    <tr>\n",
       "      <th>...</th>\n",
       "      <td>...</td>\n",
       "      <td>...</td>\n",
       "      <td>...</td>\n",
       "      <td>...</td>\n",
       "      <td>...</td>\n",
       "      <td>...</td>\n",
       "      <td>...</td>\n",
       "      <td>...</td>\n",
       "      <td>...</td>\n",
       "      <td>...</td>\n",
       "      <td>...</td>\n",
       "    </tr>\n",
       "    <tr>\n",
       "      <th>6635</th>\n",
       "      <td>1</td>\n",
       "      <td>1</td>\n",
       "      <td>1</td>\n",
       "      <td>1</td>\n",
       "      <td>0</td>\n",
       "      <td>1</td>\n",
       "      <td>1</td>\n",
       "      <td>1</td>\n",
       "      <td>1</td>\n",
       "      <td>1</td>\n",
       "      <td>1.004305</td>\n",
       "    </tr>\n",
       "    <tr>\n",
       "      <th>6636</th>\n",
       "      <td>1</td>\n",
       "      <td>0</td>\n",
       "      <td>1</td>\n",
       "      <td>0</td>\n",
       "      <td>1</td>\n",
       "      <td>1</td>\n",
       "      <td>1</td>\n",
       "      <td>1</td>\n",
       "      <td>1</td>\n",
       "      <td>1</td>\n",
       "      <td>1.336156</td>\n",
       "    </tr>\n",
       "    <tr>\n",
       "      <th>6637</th>\n",
       "      <td>1</td>\n",
       "      <td>1</td>\n",
       "      <td>0</td>\n",
       "      <td>1</td>\n",
       "      <td>1</td>\n",
       "      <td>1</td>\n",
       "      <td>0</td>\n",
       "      <td>0</td>\n",
       "      <td>1</td>\n",
       "      <td>1</td>\n",
       "      <td>-0.971869</td>\n",
       "    </tr>\n",
       "    <tr>\n",
       "      <th>6638</th>\n",
       "      <td>0</td>\n",
       "      <td>1</td>\n",
       "      <td>1</td>\n",
       "      <td>1</td>\n",
       "      <td>0</td>\n",
       "      <td>0</td>\n",
       "      <td>0</td>\n",
       "      <td>0</td>\n",
       "      <td>1</td>\n",
       "      <td>1</td>\n",
       "      <td>-0.192019</td>\n",
       "    </tr>\n",
       "    <tr>\n",
       "      <th>6639</th>\n",
       "      <td>0</td>\n",
       "      <td>1</td>\n",
       "      <td>0</td>\n",
       "      <td>1</td>\n",
       "      <td>1</td>\n",
       "      <td>1</td>\n",
       "      <td>1</td>\n",
       "      <td>1</td>\n",
       "      <td>1</td>\n",
       "      <td>1</td>\n",
       "      <td>0.357195</td>\n",
       "    </tr>\n",
       "  </tbody>\n",
       "</table>\n",
       "<p>6640 rows × 11 columns</p>\n",
       "</div>"
      ],
      "text/plain": [
       "      Payment_Method_Electronic_check  Contract_Month_to_month  \\\n",
       "0                                   1                        1   \n",
       "1                                   0                        1   \n",
       "2                                   1                        1   \n",
       "3                                   0                        0   \n",
       "4                                   0                        0   \n",
       "...                               ...                      ...   \n",
       "6635                                1                        1   \n",
       "6636                                1                        0   \n",
       "6637                                1                        1   \n",
       "6638                                0                        1   \n",
       "6639                                0                        1   \n",
       "\n",
       "      Streaming_TV_Yes  Tech_Support_No  Online_Backup_No  Online_Security_No  \\\n",
       "0                    1                1                 1                   1   \n",
       "1                    0                0                 1                   1   \n",
       "2                    1                1                 0                   1   \n",
       "3                    1                0                 0                   0   \n",
       "4                    1                0                 0                   0   \n",
       "...                ...              ...               ...                 ...   \n",
       "6635                 1                1                 0                   1   \n",
       "6636                 1                0                 1                   1   \n",
       "6637                 0                1                 1                   1   \n",
       "6638                 1                1                 0                   0   \n",
       "6639                 0                1                 1                   1   \n",
       "\n",
       "      Internet_Service_Fiber_optic  Multiple_Lines_Yes  Dependents_No  \\\n",
       "0                                1                   0              1   \n",
       "1                                1                   1              1   \n",
       "2                                1                   0              1   \n",
       "3                                1                   1              1   \n",
       "4                                0                   0              1   \n",
       "...                            ...                 ...            ...   \n",
       "6635                             1                   1              1   \n",
       "6636                             1                   1              1   \n",
       "6637                             0                   0              1   \n",
       "6638                             0                   0              1   \n",
       "6639                             1                   1              1   \n",
       "\n",
       "      Paperless_Billing_Yes  Monthly_Charges  \n",
       "0                         1         0.946231  \n",
       "1                         1         0.479980  \n",
       "2                         1         0.635950  \n",
       "3                         1         1.634823  \n",
       "4                         1        -0.032730  \n",
       "...                     ...              ...  \n",
       "6635                      1         1.004305  \n",
       "6636                      1         1.336156  \n",
       "6637                      1        -0.971869  \n",
       "6638                      1        -0.192019  \n",
       "6639                      1         0.357195  \n",
       "\n",
       "[6640 rows x 11 columns]"
      ]
     },
     "execution_count": 74,
     "metadata": {},
     "output_type": "execute_result"
    }
   ],
   "source": [
    "#oversampling on training set\n",
    "x_resampled_train_scaled"
   ]
  },
  {
   "cell_type": "code",
   "execution_count": 24,
   "id": "f232862e",
   "metadata": {},
   "outputs": [
    {
     "data": {
      "text/plain": [
       "0.7412650602409638"
      ]
     },
     "execution_count": 24,
     "metadata": {},
     "output_type": "execute_result"
    }
   ],
   "source": [
    "#hyperparameter tunining on training set\n",
    "#decision tree\n",
    "from sklearn.model_selection import GridSearchCV\n",
    "from sklearn import tree\n",
    "clf = tree.DecisionTreeClassifier()\n",
    "clf = clf.fit(x_resampled_train_dt, y_resampled_train)\n",
    "grid_vals = {'max_depth': [3,4,5,6,7,8], 'max_leaf_nodes': [2,3,4,5,6]}\n",
    "grid_DT = GridSearchCV(estimator=clf, param_grid=grid_vals, scoring='accuracy', \n",
    "                        )\n",
    "DT_fit=grid_DT.fit(x_resampled_train_dt,y_resampled_train)\n",
    "DT_fit.best_score_"
   ]
  },
  {
   "cell_type": "code",
   "execution_count": 25,
   "id": "bf0a79a9",
   "metadata": {},
   "outputs": [
    {
     "data": {
      "text/plain": [
       "DecisionTreeClassifier(max_depth=3, max_leaf_nodes=6)"
      ]
     },
     "execution_count": 25,
     "metadata": {},
     "output_type": "execute_result"
    }
   ],
   "source": [
    "best_params = DT_fit.best_params_\n",
    "best_clf = tree.DecisionTreeClassifier(max_depth=best_params['max_depth'], \n",
    "                                       max_leaf_nodes=best_params['max_leaf_nodes'])\n",
    "\n",
    "\n",
    "best_clf.fit(x_resampled_train_dt, y_resampled_train)"
   ]
  },
  {
   "cell_type": "code",
   "execution_count": 90,
   "id": "d928643b",
   "metadata": {},
   "outputs": [
    {
     "name": "stdout",
     "output_type": "stream",
     "text": [
      "Gini index best score: 0.7412650602409638\n",
      "Entropy best score: 0.7340361445783132\n"
     ]
    }
   ],
   "source": [
    "from sklearn.tree import DecisionTreeClassifier\n",
    "from sklearn.model_selection import GridSearchCV\n",
    "\n",
    "#Gini index\n",
    "clf_gini = DecisionTreeClassifier(criterion='gini')\n",
    "grid_vals = {'max_depth': [3, 4, 5, 6, 7, 8], 'max_leaf_nodes': [2, 3, 4, 5, 6]}\n",
    "grid_gini = GridSearchCV(estimator=clf_gini, param_grid=grid_vals, scoring='accuracy')\n",
    "grid_gini.fit(x_resampled_train_dt, y_resampled_train)\n",
    "\n",
    "#Entropy\n",
    "clf_entropy = DecisionTreeClassifier(criterion='entropy')\n",
    "grid_entropy = GridSearchCV(estimator=clf_entropy, param_grid=grid_vals, scoring='accuracy')\n",
    "grid_entropy.fit(x_resampled_train_dt, y_resampled_train)\n",
    "\n",
    "\n",
    "gini_best_score = grid_gini.best_score_\n",
    "entropy_best_score = grid_entropy.best_score_\n",
    "#accuracy using gini vs entropy\n",
    "print(\"Gini index:\", gini_best_score)\n",
    "print(\"Entropy:\", entropy_best_score)"
   ]
  },
  {
   "cell_type": "code",
   "execution_count": 27,
   "id": "6ab14161",
   "metadata": {},
   "outputs": [
    {
     "name": "stdout",
     "output_type": "stream",
     "text": [
      "Accuracy on validation set: 0.7444543034605147\n"
     ]
    }
   ],
   "source": [
    "y_pred_dt = best_clf.predict(X_val_DT)\n",
    "\n",
    "\n",
    "from sklearn.metrics import accuracy_score\n",
    "\n",
    "\n",
    "accuracy = accuracy_score(y_val, y_pred_dt)\n",
    "\n",
    "\n",
    "print(\"Accuracy on validation set:\", accuracy)"
   ]
  },
  {
   "cell_type": "code",
   "execution_count": 87,
   "id": "c6e9ea39",
   "metadata": {},
   "outputs": [
    {
     "data": {
      "image/png": "[encoded data removed]",
      "text/plain": [
       "<Figure size 720x432 with 1 Axes>"
      ]
     },
     "metadata": {
      "needs_background": "light"
     },
     "output_type": "display_data"
    }
   ],
   "source": [
    "from sklearn import tree\n",
    "import matplotlib.pyplot as plt\n",
    "plt.figure(figsize=(10, 6))\n",
    "tree.plot_tree(best_clf, filled=True)\n",
    "plt.savefig('decision_tree.png')\n",
    "plt.show()"
   ]
  },
  {
   "cell_type": "code",
   "execution_count": 86,
   "id": "b142d474",
   "metadata": {},
   "outputs": [
    {
     "data": {
      "text/plain": [
       "array([[631, 214],\n",
       "       [ 74, 208]], dtype=int64)"
      ]
     },
     "execution_count": 86,
     "metadata": {},
     "output_type": "execute_result"
    }
   ],
   "source": [
    "#confusion matrix\n",
    "from sklearn.metrics import confusion_matrix\n",
    "confusion_matrix(y_val, y_pred_dt)"
   ]
  },
  {
   "cell_type": "code",
   "execution_count": 106,
   "id": "b7f43efb",
   "metadata": {},
   "outputs": [
    {
     "data": {
      "image/png": "[encoded data removed]",
      "text/plain": [
       "<Figure size 432x288 with 2 Axes>"
      ]
     },
     "metadata": {
      "needs_background": "light"
     },
     "output_type": "display_data"
    }
   ],
   "source": [
    "import seaborn as sns\n",
    "import matplotlib.pyplot as plt\n",
    "\n",
    "# Calculate the confusion matrix\n",
    "cm = confusion_matrix(y_val, y_pred_dt)\n",
    "\n",
    "# Create a heatmap of the confusion matrix\n",
    "sns.heatmap(cm, annot=True, fmt='d', cmap='Blues')\n",
    "\n",
    "# Customize the plot\n",
    "plt.title('Confusion Matrix Decision Tree')\n",
    "plt.xlabel('Predicted Label')\n",
    "plt.ylabel('True Label')\n",
    "\n",
    "# Show the plot\n",
    "plt.show()\n",
    "\n"
   ]
  },
  {
   "cell_type": "code",
   "execution_count": 32,
   "id": "1f557225",
   "metadata": {},
   "outputs": [
    {
     "name": "stdout",
     "output_type": "stream",
     "text": [
      "[0.81419355 0.59090909]\n"
     ]
    }
   ],
   "source": [
    "#f1 score\n",
    "from sklearn.metrics import f1_score\n",
    "print(f1_score(y_val, y_pred_dt,average=None))"
   ]
  },
  {
   "cell_type": "code",
   "execution_count": 33,
   "id": "abaa78de",
   "metadata": {},
   "outputs": [
    {
     "data": {
      "text/plain": [
       "0.7421671073062235"
      ]
     },
     "execution_count": 33,
     "metadata": {},
     "output_type": "execute_result"
    }
   ],
   "source": [
    "#roc\n",
    "from sklearn.metrics import roc_auc_score\n",
    "roc_auc_score(y_val, y_pred_dt)"
   ]
  },
  {
   "cell_type": "code",
   "execution_count": 88,
   "id": "1b5613a7",
   "metadata": {},
   "outputs": [
    {
     "data": {
      "image/png": "[encoded data removed]",
      "text/plain": [
       "<Figure size 432x288 with 1 Axes>"
      ]
     },
     "metadata": {
      "needs_background": "light"
     },
     "output_type": "display_data"
    }
   ],
   "source": [
    "import matplotlib.pyplot as plt\n",
    "import numpy as np\n",
    "from sklearn.metrics import roc_auc_score, roc_curve\n",
    "\n",
    "# predicted probabilities for the positive class\n",
    "y_preddt_prob = best_clf.predict_proba(X_val_DT)[:, 1]\n",
    "\n",
    "# false positive rate, true positive rate, and thresholds\n",
    "fpr, tpr, thresholds = roc_curve(y_val, y_preddt_prob)\n",
    "\n",
    "# AUC-ROC score\n",
    "auc = roc_auc_score(y_val, y_preddt_prob)\n",
    "\n",
    "#ROC curve\n",
    "plt.plot(fpr, tpr, label='ROC curve (area = %0.2f)' % auc)\n",
    "plt.plot([0, 1], [0, 1], 'k--')  \n",
    "plt.xlabel('False Positive Rate')\n",
    "plt.ylabel('True Positive Rate')\n",
    "plt.title('ROC DT')\n",
    "plt.legend(loc='lower right')\n",
    "plt.savefig('roc_DT.png')\n",
    "plt.show()\n"
   ]
  },
  {
   "cell_type": "code",
   "execution_count": 1,
   "id": "f69451a5",
   "metadata": {},
   "outputs": [
    {
     "ename": "NameError",
     "evalue": "name 'best_clf' is not defined",
     "output_type": "error",
     "traceback": [
      "\u001b[1;31m---------------------------------------------------------------------------\u001b[0m",
      "\u001b[1;31mNameError\u001b[0m                                 Traceback (most recent call last)",
      "\u001b[1;32m~\\AppData\\Local\\Temp/ipykernel_8120/2010291306.py\u001b[0m in \u001b[0;36m<module>\u001b[1;34m\u001b[0m\n\u001b[1;32m----> 1\u001b[1;33m \u001b[0mbest_clf\u001b[0m\u001b[1;33m.\u001b[0m\u001b[0mfeature_importances_\u001b[0m\u001b[1;33m[\u001b[0m\u001b[1;36m6\u001b[0m\u001b[1;33m]\u001b[0m\u001b[1;33m\u001b[0m\u001b[1;33m\u001b[0m\u001b[0m\n\u001b[0m",
      "\u001b[1;31mNameError\u001b[0m: name 'best_clf' is not defined"
     ]
    }
   ],
   "source": [
    "best_clf.feature_importances_[6]"
   ]
  },
  {
   "cell_type": "code",
   "execution_count": 98,
   "id": "6fe3a4e2",
   "metadata": {},
   "outputs": [
    {
     "data": {
      "text/html": [
       "<div>\n",
       "<style scoped>\n",
       "    .dataframe tbody tr th:only-of-type {\n",
       "        vertical-align: middle;\n",
       "    }\n",
       "\n",
       "    .dataframe tbody tr th {\n",
       "        vertical-align: top;\n",
       "    }\n",
       "\n",
       "    .dataframe thead th {\n",
       "        text-align: right;\n",
       "    }\n",
       "</style>\n",
       "<table border=\"1\" class=\"dataframe\">\n",
       "  <thead>\n",
       "    <tr style=\"text-align: right;\">\n",
       "      <th></th>\n",
       "      <th>Payment_Method_Electronic_check</th>\n",
       "      <th>Contract_Month_to_month</th>\n",
       "      <th>Streaming_TV_Yes</th>\n",
       "      <th>Tech_Support_No</th>\n",
       "      <th>Online_Backup_No</th>\n",
       "      <th>Online_Security_No</th>\n",
       "      <th>Internet_Service_Fiber_optic</th>\n",
       "      <th>Multiple_Lines_Yes</th>\n",
       "      <th>Dependents_No</th>\n",
       "      <th>Paperless_Billing_Yes</th>\n",
       "      <th>Monthly_Charges</th>\n",
       "    </tr>\n",
       "  </thead>\n",
       "  <tbody>\n",
       "    <tr>\n",
       "      <th>0</th>\n",
       "      <td>1</td>\n",
       "      <td>1</td>\n",
       "      <td>1</td>\n",
       "      <td>1</td>\n",
       "      <td>1</td>\n",
       "      <td>1</td>\n",
       "      <td>1</td>\n",
       "      <td>0</td>\n",
       "      <td>1</td>\n",
       "      <td>1</td>\n",
       "      <td>92.90</td>\n",
       "    </tr>\n",
       "    <tr>\n",
       "      <th>1</th>\n",
       "      <td>0</td>\n",
       "      <td>1</td>\n",
       "      <td>0</td>\n",
       "      <td>0</td>\n",
       "      <td>1</td>\n",
       "      <td>1</td>\n",
       "      <td>1</td>\n",
       "      <td>1</td>\n",
       "      <td>1</td>\n",
       "      <td>1</td>\n",
       "      <td>78.85</td>\n",
       "    </tr>\n",
       "    <tr>\n",
       "      <th>2</th>\n",
       "      <td>1</td>\n",
       "      <td>1</td>\n",
       "      <td>1</td>\n",
       "      <td>1</td>\n",
       "      <td>0</td>\n",
       "      <td>1</td>\n",
       "      <td>1</td>\n",
       "      <td>0</td>\n",
       "      <td>1</td>\n",
       "      <td>1</td>\n",
       "      <td>83.55</td>\n",
       "    </tr>\n",
       "    <tr>\n",
       "      <th>3</th>\n",
       "      <td>0</td>\n",
       "      <td>0</td>\n",
       "      <td>1</td>\n",
       "      <td>0</td>\n",
       "      <td>0</td>\n",
       "      <td>0</td>\n",
       "      <td>1</td>\n",
       "      <td>1</td>\n",
       "      <td>1</td>\n",
       "      <td>1</td>\n",
       "      <td>113.65</td>\n",
       "    </tr>\n",
       "    <tr>\n",
       "      <th>4</th>\n",
       "      <td>0</td>\n",
       "      <td>0</td>\n",
       "      <td>1</td>\n",
       "      <td>0</td>\n",
       "      <td>0</td>\n",
       "      <td>0</td>\n",
       "      <td>0</td>\n",
       "      <td>0</td>\n",
       "      <td>1</td>\n",
       "      <td>1</td>\n",
       "      <td>63.40</td>\n",
       "    </tr>\n",
       "    <tr>\n",
       "      <th>...</th>\n",
       "      <td>...</td>\n",
       "      <td>...</td>\n",
       "      <td>...</td>\n",
       "      <td>...</td>\n",
       "      <td>...</td>\n",
       "      <td>...</td>\n",
       "      <td>...</td>\n",
       "      <td>...</td>\n",
       "      <td>...</td>\n",
       "      <td>...</td>\n",
       "      <td>...</td>\n",
       "    </tr>\n",
       "    <tr>\n",
       "      <th>6635</th>\n",
       "      <td>1</td>\n",
       "      <td>1</td>\n",
       "      <td>1</td>\n",
       "      <td>1</td>\n",
       "      <td>0</td>\n",
       "      <td>1</td>\n",
       "      <td>1</td>\n",
       "      <td>1</td>\n",
       "      <td>1</td>\n",
       "      <td>1</td>\n",
       "      <td>94.65</td>\n",
       "    </tr>\n",
       "    <tr>\n",
       "      <th>6636</th>\n",
       "      <td>1</td>\n",
       "      <td>0</td>\n",
       "      <td>1</td>\n",
       "      <td>0</td>\n",
       "      <td>1</td>\n",
       "      <td>1</td>\n",
       "      <td>1</td>\n",
       "      <td>1</td>\n",
       "      <td>1</td>\n",
       "      <td>1</td>\n",
       "      <td>104.65</td>\n",
       "    </tr>\n",
       "    <tr>\n",
       "      <th>6637</th>\n",
       "      <td>1</td>\n",
       "      <td>1</td>\n",
       "      <td>0</td>\n",
       "      <td>1</td>\n",
       "      <td>1</td>\n",
       "      <td>1</td>\n",
       "      <td>0</td>\n",
       "      <td>0</td>\n",
       "      <td>1</td>\n",
       "      <td>1</td>\n",
       "      <td>35.10</td>\n",
       "    </tr>\n",
       "    <tr>\n",
       "      <th>6638</th>\n",
       "      <td>0</td>\n",
       "      <td>1</td>\n",
       "      <td>1</td>\n",
       "      <td>1</td>\n",
       "      <td>0</td>\n",
       "      <td>0</td>\n",
       "      <td>0</td>\n",
       "      <td>0</td>\n",
       "      <td>1</td>\n",
       "      <td>1</td>\n",
       "      <td>58.60</td>\n",
       "    </tr>\n",
       "    <tr>\n",
       "      <th>6639</th>\n",
       "      <td>0</td>\n",
       "      <td>1</td>\n",
       "      <td>0</td>\n",
       "      <td>1</td>\n",
       "      <td>1</td>\n",
       "      <td>1</td>\n",
       "      <td>1</td>\n",
       "      <td>1</td>\n",
       "      <td>1</td>\n",
       "      <td>1</td>\n",
       "      <td>75.15</td>\n",
       "    </tr>\n",
       "  </tbody>\n",
       "</table>\n",
       "<p>6640 rows × 11 columns</p>\n",
       "</div>"
      ],
      "text/plain": [
       "      Payment_Method_Electronic_check  Contract_Month_to_month  \\\n",
       "0                                   1                        1   \n",
       "1                                   0                        1   \n",
       "2                                   1                        1   \n",
       "3                                   0                        0   \n",
       "4                                   0                        0   \n",
       "...                               ...                      ...   \n",
       "6635                                1                        1   \n",
       "6636                                1                        0   \n",
       "6637                                1                        1   \n",
       "6638                                0                        1   \n",
       "6639                                0                        1   \n",
       "\n",
       "      Streaming_TV_Yes  Tech_Support_No  Online_Backup_No  Online_Security_No  \\\n",
       "0                    1                1                 1                   1   \n",
       "1                    0                0                 1                   1   \n",
       "2                    1                1                 0                   1   \n",
       "3                    1                0                 0                   0   \n",
       "4                    1                0                 0                   0   \n",
       "...                ...              ...               ...                 ...   \n",
       "6635                 1                1                 0                   1   \n",
       "6636                 1                0                 1                   1   \n",
       "6637                 0                1                 1                   1   \n",
       "6638                 1                1                 0                   0   \n",
       "6639                 0                1                 1                   1   \n",
       "\n",
       "      Internet_Service_Fiber_optic  Multiple_Lines_Yes  Dependents_No  \\\n",
       "0                                1                   0              1   \n",
       "1                                1                   1              1   \n",
       "2                                1                   0              1   \n",
       "3                                1                   1              1   \n",
       "4                                0                   0              1   \n",
       "...                            ...                 ...            ...   \n",
       "6635                             1                   1              1   \n",
       "6636                             1                   1              1   \n",
       "6637                             0                   0              1   \n",
       "6638                             0                   0              1   \n",
       "6639                             1                   1              1   \n",
       "\n",
       "      Paperless_Billing_Yes  Monthly_Charges  \n",
       "0                         1            92.90  \n",
       "1                         1            78.85  \n",
       "2                         1            83.55  \n",
       "3                         1           113.65  \n",
       "4                         1            63.40  \n",
       "...                     ...              ...  \n",
       "6635                      1            94.65  \n",
       "6636                      1           104.65  \n",
       "6637                      1            35.10  \n",
       "6638                      1            58.60  \n",
       "6639                      1            75.15  \n",
       "\n",
       "[6640 rows x 11 columns]"
      ]
     },
     "execution_count": 98,
     "metadata": {},
     "output_type": "execute_result"
    }
   ],
   "source": [
    "x_resampled_train_dt"
   ]
  },
  {
   "cell_type": "code",
   "execution_count": null,
   "id": "9620715f",
   "metadata": {},
   "outputs": [],
   "source": [
    "#svm\n",
    "from sklearn import svm\n",
    "lin_clf = svm.LinearSVC()\n",
    "lin_clf=lin_clf.fit(x_resampled_train_scaled, y_resampled_train_scaled)\n",
    "\n",
    "grid_vals_svm = {'C': [0.001,0.1,1,5,10,20,50,100]}\n",
    "grid_svm = GridSearchCV(estimator=lin_clf, param_grid=grid_vals_svm, scoring='accuracy', \n",
    "                        )\n",
    "\n",
    "SVM_fit=grid_svm.fit(x_resampled_train_scaled,y_resampled_train_scaled)\n",
    "SVM_fit.best_score_\n",
    "#accuracy of highest hyperparameter"
   ]
  },
  {
   "cell_type": "code",
   "execution_count": 77,
   "id": "995f7c24",
   "metadata": {},
   "outputs": [
    {
     "data": {
      "text/plain": [
       "{'C': 0.1}"
      ]
     },
     "execution_count": 77,
     "metadata": {},
     "output_type": "execute_result"
    }
   ],
   "source": [
    "SVM_fit.best_params_"
   ]
  },
  {
   "cell_type": "code",
   "execution_count": 78,
   "id": "7eef2715",
   "metadata": {},
   "outputs": [],
   "source": [
    "best_clf_svm = svm.LinearSVC(C=0.1)"
   ]
  },
  {
   "cell_type": "code",
   "execution_count": 79,
   "id": "30184471",
   "metadata": {},
   "outputs": [
    {
     "name": "stderr",
     "output_type": "stream",
     "text": [
      "C:\\Users\\HP\\anaconda3\\envs\\Work\\lib\\site-packages\\sklearn\\utils\\validation.py:993: DataConversionWarning: A column-vector y was passed when a 1d array was expected. Please change the shape of y to (n_samples, ), for example using ravel().\n",
      "  y = column_or_1d(y, warn=True)\n"
     ]
    },
    {
     "data": {
      "text/plain": [
       "LinearSVC(C=0.1)"
      ]
     },
     "execution_count": 79,
     "metadata": {},
     "output_type": "execute_result"
    }
   ],
   "source": [
    "\n",
    "best_clf_svm.fit(x_resampled_train_scaled, y_resampled_train_scaled)"
   ]
  },
  {
   "cell_type": "code",
   "execution_count": 80,
   "id": "a291e5f0",
   "metadata": {},
   "outputs": [],
   "source": [
    "pred_SVM=best_clf_svm.predict(X_val_scaled)"
   ]
  },
  {
   "cell_type": "code",
   "execution_count": 81,
   "id": "959d61f1",
   "metadata": {},
   "outputs": [
    {
     "data": {
      "text/plain": [
       "array([[622, 223],\n",
       "       [ 65, 217]], dtype=int64)"
      ]
     },
     "execution_count": 81,
     "metadata": {},
     "output_type": "execute_result"
    }
   ],
   "source": [
    "#confusion matrix\n",
    "confusion_matrix(y_val, pred_SVM)"
   ]
  },
  {
   "cell_type": "code",
   "execution_count": 105,
   "id": "3ce6066e",
   "metadata": {},
   "outputs": [
    {
     "data": {
      "image/png": "[encoded data removed]",
      "text/plain": [
       "<Figure size 432x288 with 2 Axes>"
      ]
     },
     "metadata": {
      "needs_background": "light"
     },
     "output_type": "display_data"
    }
   ],
   "source": [
    "import seaborn as sns\n",
    "import matplotlib.pyplot as plt\n",
    "\n",
    "# Calculate the confusion matrix\n",
    "cm = confusion_matrix(y_val, pred_SVM)\n",
    "\n",
    "# Create a heatmap of the confusion matrix\n",
    "sns.heatmap(cm, annot=True, fmt='d', cmap='Blues')\n",
    "\n",
    "# Customize the plot\n",
    "plt.title('Confusion Matrix SVM')\n",
    "plt.xlabel('Predicted Label')\n",
    "plt.ylabel('True Label')\n",
    "\n",
    "# Show the plot\n",
    "plt.show()"
   ]
  },
  {
   "cell_type": "code",
   "execution_count": 82,
   "id": "bfde0c09",
   "metadata": {},
   "outputs": [
    {
     "name": "stdout",
     "output_type": "stream",
     "text": [
      "0.7444543034605147\n",
      "[0.81201044 0.60110803]\n"
     ]
    }
   ],
   "source": [
    "#accuracy and f1 score\n",
    "print(accuracy_score(y_val, pred_SVM))\n",
    "print(f1_score(y_val, pred_SVM ,average=None))"
   ]
  },
  {
   "cell_type": "code",
   "execution_count": 83,
   "id": "d586ddd1",
   "metadata": {},
   "outputs": [
    {
     "data": {
      "text/plain": [
       "0.7527991103277519"
      ]
     },
     "execution_count": 83,
     "metadata": {},
     "output_type": "execute_result"
    }
   ],
   "source": [
    "#roc_auc_score\n",
    "roc_auc_score(y_val, pred_SVM)"
   ]
  },
  {
   "cell_type": "code",
   "execution_count": 89,
   "id": "47f40b85",
   "metadata": {},
   "outputs": [
    {
     "data": {
      "image/png": "[encoded data removed]",
      "text/plain": [
       "<Figure size 432x288 with 1 Axes>"
      ]
     },
     "metadata": {
      "needs_background": "light"
     },
     "output_type": "display_data"
    }
   ],
   "source": [
    "y_pred_scores = best_clf_svm.decision_function(X_val_scaled)\n",
    "\n",
    "# Compute false positive rate, true positive rate, and thresholds\n",
    "fpr_s, tpr_s, thresholds_s = roc_curve(y_val, y_pred_scores)\n",
    "\n",
    "#AUC-ROC score\n",
    "auc_svm = roc_auc_score(y_val, y_pred_scores)\n",
    "\n",
    "# Plot ROC curve\n",
    "plt.plot(fpr_s, tpr_s, label='ROC curve (area = %0.2f)' % auc_svm)\n",
    "plt.plot([0, 1], [0, 1], 'k--')  \n",
    "plt.xlabel('False Positive Rate')\n",
    "plt.ylabel('True Positive Rate')\n",
    "plt.title('ROC SVM')\n",
    "plt.legend(loc='lower right')\n",
    "plt.savefig('roc_svm.png')\n",
    "plt.show()"
   ]
  },
  {
   "cell_type": "code",
   "execution_count": 75,
   "id": "abc39b63",
   "metadata": {},
   "outputs": [],
   "source": [
    "x_resampled_train_scaled.to_csv('X_train1_scaled.csv', index=False)\n",
    "x_resampled_train_dt.to_csv('X_train_DT.csv', index=False)"
   ]
  },
  {
   "cell_type": "code",
   "execution_count": 48,
   "id": "c9d9cd6e",
   "metadata": {},
   "outputs": [],
   "source": [
    "X_val_scaled.to_csv('X_val_scaled.csv', index=False)\n",
    "X_val_DT.to_csv('X_val_DT.csv', index=False)"
   ]
  },
  {
   "cell_type": "code",
   "execution_count": 49,
   "id": "e966c2d1",
   "metadata": {},
   "outputs": [],
   "source": [
    "X_test_scaled.to_csv('X_test_scaled.csv', index=False)\n",
    "X_test_DT.to_csv('X_test_DT.csv', index=False)"
   ]
  },
  {
   "cell_type": "code",
   "execution_count": 57,
   "id": "8fd657e6",
   "metadata": {},
   "outputs": [],
   "source": [
    "y_resampled_train.to_csv('y_train_ml_stat.csv', index=False)\n",
    "\n",
    "y_val.to_csv('y_val.csv', index=False)\n",
    "y_test.to_csv('y_test.csv', index=False)"
   ]
  },
  {
   "cell_type": "code",
   "execution_count": 101,
   "id": "10c1280d",
   "metadata": {},
   "outputs": [
    {
     "data": {
      "text/plain": [
       "array([[ 0.17957552,  0.64293418,  0.09042284,  0.13860198,  0.1043714 ,\n",
       "         0.21169774,  0.28899568, -0.00892779,  0.50193586,  0.131983  ,\n",
       "        -0.05186794]])"
      ]
     },
     "execution_count": 101,
     "metadata": {},
     "output_type": "execute_result"
    }
   ],
   "source": [
    "best_clf_svm.coef_"
   ]
  },
  {
   "cell_type": "code",
   "execution_count": 104,
   "id": "b14f86af",
   "metadata": {},
   "outputs": [
    {
     "data": {
      "text/html": [
       "<div>\n",
       "<style scoped>\n",
       "    .dataframe tbody tr th:only-of-type {\n",
       "        vertical-align: middle;\n",
       "    }\n",
       "\n",
       "    .dataframe tbody tr th {\n",
       "        vertical-align: top;\n",
       "    }\n",
       "\n",
       "    .dataframe thead th {\n",
       "        text-align: right;\n",
       "    }\n",
       "</style>\n",
       "<table border=\"1\" class=\"dataframe\">\n",
       "  <thead>\n",
       "    <tr style=\"text-align: right;\">\n",
       "      <th></th>\n",
       "      <th>Payment_Method_Electronic_check</th>\n",
       "      <th>Contract_Month_to_month</th>\n",
       "      <th>Streaming_TV_Yes</th>\n",
       "      <th>Tech_Support_No</th>\n",
       "      <th>Online_Backup_No</th>\n",
       "      <th>Online_Security_No</th>\n",
       "      <th>Internet_Service_Fiber_optic</th>\n",
       "      <th>Multiple_Lines_Yes</th>\n",
       "      <th>Dependents_No</th>\n",
       "      <th>Paperless_Billing_Yes</th>\n",
       "      <th>Monthly_Charges</th>\n",
       "    </tr>\n",
       "  </thead>\n",
       "  <tbody>\n",
       "    <tr>\n",
       "      <th>0</th>\n",
       "      <td>1</td>\n",
       "      <td>1</td>\n",
       "      <td>1</td>\n",
       "      <td>1</td>\n",
       "      <td>1</td>\n",
       "      <td>1</td>\n",
       "      <td>1</td>\n",
       "      <td>0</td>\n",
       "      <td>1</td>\n",
       "      <td>1</td>\n",
       "      <td>0.946231</td>\n",
       "    </tr>\n",
       "    <tr>\n",
       "      <th>1</th>\n",
       "      <td>0</td>\n",
       "      <td>1</td>\n",
       "      <td>0</td>\n",
       "      <td>0</td>\n",
       "      <td>1</td>\n",
       "      <td>1</td>\n",
       "      <td>1</td>\n",
       "      <td>1</td>\n",
       "      <td>1</td>\n",
       "      <td>1</td>\n",
       "      <td>0.479980</td>\n",
       "    </tr>\n",
       "    <tr>\n",
       "      <th>2</th>\n",
       "      <td>1</td>\n",
       "      <td>1</td>\n",
       "      <td>1</td>\n",
       "      <td>1</td>\n",
       "      <td>0</td>\n",
       "      <td>1</td>\n",
       "      <td>1</td>\n",
       "      <td>0</td>\n",
       "      <td>1</td>\n",
       "      <td>1</td>\n",
       "      <td>0.635950</td>\n",
       "    </tr>\n",
       "    <tr>\n",
       "      <th>3</th>\n",
       "      <td>0</td>\n",
       "      <td>0</td>\n",
       "      <td>1</td>\n",
       "      <td>0</td>\n",
       "      <td>0</td>\n",
       "      <td>0</td>\n",
       "      <td>1</td>\n",
       "      <td>1</td>\n",
       "      <td>1</td>\n",
       "      <td>1</td>\n",
       "      <td>1.634823</td>\n",
       "    </tr>\n",
       "    <tr>\n",
       "      <th>4</th>\n",
       "      <td>0</td>\n",
       "      <td>0</td>\n",
       "      <td>1</td>\n",
       "      <td>0</td>\n",
       "      <td>0</td>\n",
       "      <td>0</td>\n",
       "      <td>0</td>\n",
       "      <td>0</td>\n",
       "      <td>1</td>\n",
       "      <td>1</td>\n",
       "      <td>-0.032730</td>\n",
       "    </tr>\n",
       "    <tr>\n",
       "      <th>...</th>\n",
       "      <td>...</td>\n",
       "      <td>...</td>\n",
       "      <td>...</td>\n",
       "      <td>...</td>\n",
       "      <td>...</td>\n",
       "      <td>...</td>\n",
       "      <td>...</td>\n",
       "      <td>...</td>\n",
       "      <td>...</td>\n",
       "      <td>...</td>\n",
       "      <td>...</td>\n",
       "    </tr>\n",
       "    <tr>\n",
       "      <th>6635</th>\n",
       "      <td>1</td>\n",
       "      <td>1</td>\n",
       "      <td>1</td>\n",
       "      <td>1</td>\n",
       "      <td>0</td>\n",
       "      <td>1</td>\n",
       "      <td>1</td>\n",
       "      <td>1</td>\n",
       "      <td>1</td>\n",
       "      <td>1</td>\n",
       "      <td>1.004305</td>\n",
       "    </tr>\n",
       "    <tr>\n",
       "      <th>6636</th>\n",
       "      <td>1</td>\n",
       "      <td>0</td>\n",
       "      <td>1</td>\n",
       "      <td>0</td>\n",
       "      <td>1</td>\n",
       "      <td>1</td>\n",
       "      <td>1</td>\n",
       "      <td>1</td>\n",
       "      <td>1</td>\n",
       "      <td>1</td>\n",
       "      <td>1.336156</td>\n",
       "    </tr>\n",
       "    <tr>\n",
       "      <th>6637</th>\n",
       "      <td>1</td>\n",
       "      <td>1</td>\n",
       "      <td>0</td>\n",
       "      <td>1</td>\n",
       "      <td>1</td>\n",
       "      <td>1</td>\n",
       "      <td>0</td>\n",
       "      <td>0</td>\n",
       "      <td>1</td>\n",
       "      <td>1</td>\n",
       "      <td>-0.971869</td>\n",
       "    </tr>\n",
       "    <tr>\n",
       "      <th>6638</th>\n",
       "      <td>0</td>\n",
       "      <td>1</td>\n",
       "      <td>1</td>\n",
       "      <td>1</td>\n",
       "      <td>0</td>\n",
       "      <td>0</td>\n",
       "      <td>0</td>\n",
       "      <td>0</td>\n",
       "      <td>1</td>\n",
       "      <td>1</td>\n",
       "      <td>-0.192019</td>\n",
       "    </tr>\n",
       "    <tr>\n",
       "      <th>6639</th>\n",
       "      <td>0</td>\n",
       "      <td>1</td>\n",
       "      <td>0</td>\n",
       "      <td>1</td>\n",
       "      <td>1</td>\n",
       "      <td>1</td>\n",
       "      <td>1</td>\n",
       "      <td>1</td>\n",
       "      <td>1</td>\n",
       "      <td>1</td>\n",
       "      <td>0.357195</td>\n",
       "    </tr>\n",
       "  </tbody>\n",
       "</table>\n",
       "<p>6640 rows × 11 columns</p>\n",
       "</div>"
      ],
      "text/plain": [
       "      Payment_Method_Electronic_check  Contract_Month_to_month  \\\n",
       "0                                   1                        1   \n",
       "1                                   0                        1   \n",
       "2                                   1                        1   \n",
       "3                                   0                        0   \n",
       "4                                   0                        0   \n",
       "...                               ...                      ...   \n",
       "6635                                1                        1   \n",
       "6636                                1                        0   \n",
       "6637                                1                        1   \n",
       "6638                                0                        1   \n",
       "6639                                0                        1   \n",
       "\n",
       "      Streaming_TV_Yes  Tech_Support_No  Online_Backup_No  Online_Security_No  \\\n",
       "0                    1                1                 1                   1   \n",
       "1                    0                0                 1                   1   \n",
       "2                    1                1                 0                   1   \n",
       "3                    1                0                 0                   0   \n",
       "4                    1                0                 0                   0   \n",
       "...                ...              ...               ...                 ...   \n",
       "6635                 1                1                 0                   1   \n",
       "6636                 1                0                 1                   1   \n",
       "6637                 0                1                 1                   1   \n",
       "6638                 1                1                 0                   0   \n",
       "6639                 0                1                 1                   1   \n",
       "\n",
       "      Internet_Service_Fiber_optic  Multiple_Lines_Yes  Dependents_No  \\\n",
       "0                                1                   0              1   \n",
       "1                                1                   1              1   \n",
       "2                                1                   0              1   \n",
       "3                                1                   1              1   \n",
       "4                                0                   0              1   \n",
       "...                            ...                 ...            ...   \n",
       "6635                             1                   1              1   \n",
       "6636                             1                   1              1   \n",
       "6637                             0                   0              1   \n",
       "6638                             0                   0              1   \n",
       "6639                             1                   1              1   \n",
       "\n",
       "      Paperless_Billing_Yes  Monthly_Charges  \n",
       "0                         1         0.946231  \n",
       "1                         1         0.479980  \n",
       "2                         1         0.635950  \n",
       "3                         1         1.634823  \n",
       "4                         1        -0.032730  \n",
       "...                     ...              ...  \n",
       "6635                      1         1.004305  \n",
       "6636                      1         1.336156  \n",
       "6637                      1        -0.971869  \n",
       "6638                      1        -0.192019  \n",
       "6639                      1         0.357195  \n",
       "\n",
       "[6640 rows x 11 columns]"
      ]
     },
     "execution_count": 104,
     "metadata": {},
     "output_type": "execute_result"
    }
   ],
   "source": [
    "x_resampled_train_scaled"
   ]
  },
  {
   "cell_type": "code",
   "execution_count": null,
   "id": "d68d21d1",
   "metadata": {},
   "outputs": [],
   "source": []
  }
 ],
 "metadata": {
  "kernelspec": {
   "display_name": "Python 3 (ipykernel)",
   "language": "python",
   "name": "python3"
  },
  "language_info": {
   "codemirror_mode": {
    "name": "ipython",
    "version": 3
   },
   "file_extension": ".py",
   "mimetype": "text/x-python",
   "name": "python",
   "nbconvert_exporter": "python",
   "pygments_lexer": "ipython3",
   "version": "3.9.7"
  }
 },
 "nbformat": 4,
 "nbformat_minor": 5
}
