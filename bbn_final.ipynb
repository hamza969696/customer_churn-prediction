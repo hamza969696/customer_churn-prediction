{
 "cells": [
  {
   "cell_type": "code",
   "execution_count": 19,
   "id": "9bac9115",
   "metadata": {},
   "outputs": [],
   "source": [
    "import pandas as pd\n",
    "X_train=pd.read_csv('X_train1_scaled.csv')\n",
    "X_val=pd.read_csv('X_val_scaled.csv')\n",
    "X_test=pd.read_csv('X_test_scaled.csv')\n",
    "y_test=pd.read_csv('y_test.csv')\n",
    "y_train=pd.read_csv('y_train_ml_stat.csv')\n",
    "y_val=pd.read_csv('y_val.csv')\n",
    "train_data = pd.concat([X_train, y_train], axis=1)\n",
    "\n",
    "\n",
    "val_data = pd.concat([X_val, y_val], axis=1)\n",
    "\n",
    "\n",
    "test_data = pd.concat([X_test, y_test], axis=1)"
   ]
  },
  {
   "cell_type": "code",
   "execution_count": 20,
   "id": "0143d47c",
   "metadata": {},
   "outputs": [],
   "source": [
    "import pandas as pd\n",
    "import numpy as np\n",
    "from pgmpy.models import BayesianModel\n",
    "from pgmpy.estimators import MaximumLikelihoodEstimator\n",
    "from pgmpy.inference import VariableElimination"
   ]
  },
  {
   "cell_type": "code",
   "execution_count": 21,
   "id": "704c0d2f",
   "metadata": {},
   "outputs": [],
   "source": [
    "num_bins = 2  \n",
    "labels = [f'bin_{i}' for i in range(1, num_bins + 1)]\n",
    "\n",
    "train_data['Monthly_Charges_Discrete'] = pd.cut(\n",
    "    train_data['Monthly_Charges'], bins=num_bins, labels=labels\n",
    ")"
   ]
  },
  {
   "cell_type": "code",
   "execution_count": 22,
   "id": "3bdfc9d8",
   "metadata": {},
   "outputs": [],
   "source": [
    "num_bins = 2  \n",
    "labels = [f'bin_{i}' for i in range(1, num_bins + 1)]\n",
    "\n",
    "val_data['Monthly_Charges_Discrete'] = pd.cut(\n",
    "    val_data['Monthly_Charges'], bins=num_bins, labels=labels\n",
    ")"
   ]
  },
  {
   "cell_type": "code",
   "execution_count": 23,
   "id": "5ab755db",
   "metadata": {},
   "outputs": [],
   "source": [
    "num_bins = 2  \n",
    "labels = [f'bin_{i}' for i in range(1, num_bins + 1)]\n",
    "\n",
    "test_data['Monthly_Charges_Discrete'] = pd.cut(\n",
    "    test_data['Monthly_Charges'], bins=num_bins, labels=labels\n",
    ")"
   ]
  },
  {
   "cell_type": "code",
   "execution_count": 24,
   "id": "9a1ba9cb",
   "metadata": {},
   "outputs": [
    {
     "name": "stderr",
     "output_type": "stream",
     "text": [
      "C:\\Users\\HP\\anaconda3\\envs\\Work\\lib\\site-packages\\pgmpy\\models\\BayesianModel.py:8: FutureWarning: BayesianModel has been renamed to BayesianNetwork. Please use BayesianNetwork class, BayesianModel will be removed in future.\n",
      "  warnings.warn(\n"
     ]
    }
   ],
   "source": [
    "b_model2 = BayesianModel([\n",
    "    ('Payment_Method_Electronic_check', 'Streaming_TV_Yes', 'Internet_Service_Fiber_optic', 'Churn_Value'),\n",
    "    ('Churn_Value', 'Streaming_TV_Yes', 'Tech_Support_No'),\n",
    "    ('Churn_Value', 'Tech_Support_No'),\n",
    "    ('Churn_Value', 'Online_Backup_No'),\n",
    "    ('Churn_Value', 'Online_Security_No', 'Online_Backup_No'),\n",
    "    ('Internet_Service_Fiber_optic', 'Churn_Value'),\n",
    "    ('Churn_Value', 'Multiple_Lines_Yes'),\n",
    "    ('Dependents_No', 'Churn_Value'),\n",
    "    ('Paperless_Billing_Yes', 'Churn_Value'),\n",
    "    ('Monthly_Charges_Discrete', 'Churn_Value'),  \n",
    "    ('Monthly_Charges_Discrete', 'Paperless_Billing_Yes', 'Churn_Value'),  \n",
    "    ('Churn_Value', 'Contract_Month_to_month')\n",
    "])\n",
    "\n",
    "b_model2.fit(train_data, estimator=MaximumLikelihoodEstimator)"
   ]
  },
  {
   "cell_type": "code",
   "execution_count": 25,
   "id": "02d18959",
   "metadata": {},
   "outputs": [
    {
     "name": "stdout",
     "output_type": "stream",
     "text": [
      "+----------------+--------------------+\n",
      "| Churn_Value    |   phi(Churn_Value) |\n",
      "+================+====================+\n",
      "| Churn_Value(0) |             0.7409 |\n",
      "+----------------+--------------------+\n",
      "| Churn_Value(1) |             0.2591 |\n",
      "+----------------+--------------------+\n"
     ]
    },
    {
     "name": "stderr",
     "output_type": "stream",
     "text": [
      "C:\\Users\\HP\\anaconda3\\envs\\Work\\lib\\site-packages\\pgmpy\\models\\BayesianModel.py:8: FutureWarning: BayesianModel has been renamed to BayesianNetwork. Please use BayesianNetwork class, BayesianModel will be removed in future.\n",
      "  warnings.warn(\n"
     ]
    }
   ],
   "source": [
    "from pgmpy.inference import VariableElimination\n",
    "\n",
    "churn_infer=VariableElimination(b_model2)\n",
    "q1=churn_infer.query(variables=['Churn_Value'],evidence={'Internet_Service_Fiber_optic': 0}, joint=False)\n",
    "print(q1['Churn_Value'])"
   ]
  },
  {
   "cell_type": "code",
   "execution_count": 26,
   "id": "2bc34676",
   "metadata": {},
   "outputs": [
    {
     "name": "stdout",
     "output_type": "stream",
     "text": [
      "+----------------+--------------------+\n",
      "| Churn_Value    |   phi(Churn_Value) |\n",
      "+================+====================+\n",
      "| Churn_Value(0) |             0.2555 |\n",
      "+----------------+--------------------+\n",
      "| Churn_Value(1) |             0.7445 |\n",
      "+----------------+--------------------+\n"
     ]
    }
   ],
   "source": [
    "churn_infer=VariableElimination(b_model2)\n",
    "q2=churn_infer.query(variables=['Churn_Value'],evidence={'Internet_Service_Fiber_optic': 1}, joint=False)\n",
    "print(q2['Churn_Value'])"
   ]
  },
  {
   "cell_type": "code",
   "execution_count": 27,
   "id": "ff739902",
   "metadata": {},
   "outputs": [
    {
     "name": "stdout",
     "output_type": "stream",
     "text": [
      "<pgmpy.inference.ExactInference.VariableElimination object at 0x0000027A8CD673D0>\n"
     ]
    }
   ],
   "source": [
    "inference = VariableElimination(b_model2)\n",
    "print(inference)"
   ]
  },
  {
   "cell_type": "code",
   "execution_count": 28,
   "id": "1b4e97c9",
   "metadata": {},
   "outputs": [
    {
     "name": "stdout",
     "output_type": "stream",
     "text": [
      "        P(C=0)    P(C=1)\n",
      "0     0.986107  0.013893\n",
      "1     0.997691  0.002309\n",
      "2     0.024188  0.975812\n",
      "3     0.978474  0.021526\n",
      "4     0.876661  0.123339\n",
      "...        ...       ...\n",
      "1122  0.987769  0.012231\n",
      "1123  0.424242  0.575758\n",
      "1124  0.887101  0.112899\n",
      "1125  0.974224  0.025776\n",
      "1126  0.072200  0.927800\n",
      "\n",
      "[1127 rows x 2 columns]\n"
     ]
    }
   ],
   "source": [
    "predicted_probabilities = []\n",
    "for index, row in val_data.iterrows():\n",
    "    evidence = {'Payment_Method_Electronic_check': row['Payment_Method_Electronic_check'], \n",
    "                'Streaming_TV_Yes': row['Streaming_TV_Yes'],\n",
    "                'Internet_Service_Fiber_optic': row['Internet_Service_Fiber_optic'],\n",
    "                'Monthly_Charges_Discrete': row['Monthly_Charges_Discrete'],\n",
    "                'Tech_Support_No': row['Tech_Support_No'],\n",
    "                'Online_Backup_No': row['Online_Backup_No'],\n",
    "                'Online_Security_No': row['Online_Security_No'],\n",
    "                'Multiple_Lines_Yes': row['Multiple_Lines_Yes'],\n",
    "                'Dependents_No': row['Dependents_No'],\n",
    "                'Paperless_Billing_Yes': row['Paperless_Billing_Yes'],\n",
    "                \n",
    "                'Contract_Month_to_month': row['Contract_Month_to_month']}\n",
    "    probability = inference.query(variables=['Churn_Value'], evidence=evidence)\n",
    "    predicted_probabilities.append(probability.values)\n",
    "\n",
    "predicted_probabilities_df1 = pd.DataFrame(predicted_probabilities, columns=['P(C=0)', 'P(C=1)'])\n",
    "\n",
    "print(predicted_probabilities_df1)"
   ]
  },
  {
   "cell_type": "code",
   "execution_count": 29,
   "id": "906b823a",
   "metadata": {},
   "outputs": [],
   "source": [
    "predicted_probabilities_df1['Churn_Value'] = predicted_probabilities_df1.apply(lambda row: 0 if row['P(C=0)'] >= row['P(C=1)'] else 1, axis=1)"
   ]
  },
  {
   "cell_type": "code",
   "execution_count": 30,
   "id": "0609e845",
   "metadata": {},
   "outputs": [
    {
     "data": {
      "text/plain": [
       "0.7302573203194321"
      ]
     },
     "execution_count": 30,
     "metadata": {},
     "output_type": "execute_result"
    }
   ],
   "source": [
    "from sklearn.metrics import accuracy_score\n",
    "accuracy_score(predicted_probabilities_df1['Churn_Value'],val_data['Churn_Value'])"
   ]
  },
  {
   "cell_type": "code",
   "execution_count": 31,
   "id": "ee83449d",
   "metadata": {},
   "outputs": [
    {
     "data": {
      "text/plain": [
       "array([0.7997365 , 0.58695652])"
      ]
     },
     "execution_count": 31,
     "metadata": {},
     "output_type": "execute_result"
    }
   ],
   "source": [
    "from sklearn.metrics import f1_score\n",
    "f1_score(predicted_probabilities_df1['Churn_Value'],val_data['Churn_Value'],average=None)"
   ]
  },
  {
   "cell_type": "code",
   "execution_count": 34,
   "id": "8dcf2802",
   "metadata": {},
   "outputs": [
    {
     "data": {
      "image/png": "[encoded data removed]",
      "text/plain": [
       "<Figure size 432x288 with 2 Axes>"
      ]
     },
     "metadata": {
      "needs_background": "light"
     },
     "output_type": "display_data"
    }
   ],
   "source": [
    "import seaborn as sns\n",
    "import matplotlib.pyplot as plt\n",
    "from sklearn.metrics import confusion_matrix\n",
    "\n",
    "# Calculate the confusion matrix\n",
    "cm = confusion_matrix(y_val, predicted_probabilities_df1['Churn_Value'])\n",
    "\n",
    "# Create a heatmap of the confusion matrix\n",
    "sns.heatmap(cm, annot=True, fmt='d', cmap='Blues')\n",
    "\n",
    "# Customize the plot\n",
    "plt.title('Confusion Matrix BBN')\n",
    "plt.xlabel('Predicted Label')\n",
    "plt.ylabel('True Label')\n",
    "\n",
    "# Show the plot\n",
    "plt.savefig('cm_bbn.png')\n",
    "plt.show()"
   ]
  },
  {
   "cell_type": "code",
   "execution_count": null,
   "id": "487eb2e8",
   "metadata": {},
   "outputs": [],
   "source": [
    "from sklearn.metrics import confusion_matrix\n",
    "confusion_matrix(predicted_probabilities_df1['Churn_Value'],val_data['Churn_Value'])"
   ]
  },
  {
   "cell_type": "code",
   "execution_count": null,
   "id": "986e17cb",
   "metadata": {},
   "outputs": [],
   "source": [
    "from sklearn.metrics import roc_auc_score\n",
    "import matplotlib.pyplot as plt\n",
    "from sklearn.metrics import roc_curve\n",
    "\n",
    "\n",
    "\n",
    "fpr, tpr, thresholds = roc_curve(val_data['Churn_Value'], predicted_probabilities_df1['Churn_Value'])\n",
    "\n",
    "# Calculate AUC score\n",
    "auc_score = roc_auc_score(val_data['Churn_Value'], predicted_probabilities_df1['Churn_Value'])\n",
    "\n",
    "# Plot ROC curve\n",
    "plt.plot(fpr, tpr, label=f'BBN Regression (AUC = {auc_score:.2f})')\n",
    "plt.plot([0, 1], [0, 1], linestyle='--', label='Random Guess')\n",
    "plt.xlabel('False Positive Rate')\n",
    "plt.ylabel('True Positive Rate')\n",
    "plt.title('ROC_BBN')\n",
    "plt.legend()\n",
    "plt.savefig('roc_bbn.png')\n",
    "plt.show()"
   ]
  },
  {
   "cell_type": "code",
   "execution_count": 15,
   "id": "071dcab9",
   "metadata": {},
   "outputs": [
    {
     "data": {
      "image/png": "[encoded data removed]",
      "text/plain": [
       "<Figure size 432x288 with 1 Axes>"
      ]
     },
     "metadata": {},
     "output_type": "display_data"
    }
   ],
   "source": [
    "import networkx as nx\n",
    "G = nx.DiGraph()\n",
    "G.add_nodes_from(b_model2.nodes())\n",
    "G.add_edges_from(b_model2.edges())\n",
    "\n",
    "pos = {\n",
    "    'Payment_Method_Electronic_check': (-1, 3.5),\n",
    "    'Streaming_TV_Yes': (3, 3),\n",
    "    'Internet_Service_Fiber_optic': (6, 3),\n",
    "    'Churn_Value': (3, 1),\n",
    "    'Tech_Support_No': (5, 1),\n",
    "    'Online_Backup_No': (2, -1.5),\n",
    "    'Online_Security_No': (4, -1),\n",
    "    'Multiple_Lines_Yes': (6, -1.5),\n",
    "    'Dependents_No': (0, 1),\n",
    "    'Paperless_Billing_Yes': (-0.5, -1),\n",
    "    'Monthly_Charges_Discrete': (-1, 2),\n",
    "    'Contract_Month_to_month': (-2, 0)\n",
    "}\n",
    "\n",
    "# Draw the BBN diagram using networkx and matplotlib\n",
    "nx.draw_networkx_nodes(G, pos, node_size=1000)\n",
    "nx.draw_networkx_edges(G, pos, arrowsize=15, width=1)\n",
    "nx.draw_networkx_labels(G, pos, font_size=8, font_family='sans-serif')\n",
    "plt.axis('off')\n",
    "plt.savefig('bbn.png')\n",
    "plt.show()"
   ]
  },
  {
   "cell_type": "code",
   "execution_count": 17,
   "id": "5e0aebb7",
   "metadata": {},
   "outputs": [
    {
     "name": "stderr",
     "output_type": "stream",
     "text": [
      "C:\\Users\\HP\\anaconda3\\envs\\Work\\lib\\site-packages\\pgmpy\\models\\BayesianModel.py:8: FutureWarning: BayesianModel has been renamed to BayesianNetwork. Please use BayesianNetwork class, BayesianModel will be removed in future.\n",
      "  warnings.warn(\n"
     ]
    },
    {
     "name": "stdout",
     "output_type": "stream",
     "text": [
      "Predicted probabilities for train_data:\n",
      "        P(C=0)    P(C=1)\n",
      "0     0.024760  0.975240\n",
      "1     0.109534  0.890466\n",
      "2     0.079069  0.920931\n",
      "3     0.947050  0.052950\n",
      "4     0.983511  0.016489\n",
      "...        ...       ...\n",
      "6635  0.066894  0.933106\n",
      "6636  0.534580  0.465420\n",
      "6637  0.064567  0.935433\n",
      "6638  0.524007  0.475993\n",
      "6639  0.022802  0.977198\n",
      "\n",
      "[6640 rows x 2 columns]\n"
     ]
    },
    {
     "data": {
      "text/plain": [
       "0.7564759036144578"
      ]
     },
     "execution_count": 17,
     "metadata": {},
     "output_type": "execute_result"
    }
   ],
   "source": [
    "import pandas as pd\n",
    "\n",
    "# Calculate predicted probabilities for train_data\n",
    "predicted_probabilities_train = []\n",
    "for index, row in train_data.iterrows():\n",
    "    evidence = {'Payment_Method_Electronic_check': row['Payment_Method_Electronic_check'], \n",
    "                'Streaming_TV_Yes': row['Streaming_TV_Yes'],\n",
    "                'Internet_Service_Fiber_optic': row['Internet_Service_Fiber_optic'],\n",
    "                'Monthly_Charges_Discrete': row['Monthly_Charges_Discrete'],\n",
    "                'Tech_Support_No': row['Tech_Support_No'],\n",
    "                'Online_Backup_No': row['Online_Backup_No'],\n",
    "                'Online_Security_No': row['Online_Security_No'],\n",
    "                'Multiple_Lines_Yes': row['Multiple_Lines_Yes'],\n",
    "                'Dependents_No': row['Dependents_No'],\n",
    "                'Paperless_Billing_Yes': row['Paperless_Billing_Yes'],\n",
    "                'Contract_Month_to_month': row['Contract_Month_to_month']}\n",
    "    probability = inference.query(variables=['Churn_Value'], evidence=evidence)\n",
    "    predicted_probabilities_train.append(probability.values)\n",
    "\n",
    "predicted_probabilities_train_df = pd.DataFrame(predicted_probabilities_train, columns=['P(C=0)', 'P(C=1)'])\n",
    "print(\"Predicted probabilities for train_data:\")\n",
    "print(predicted_probabilities_train_df)\n",
    "\n",
    "predicted_probabilities_train_df['Churn_Value'] = predicted_probabilities_train_df.apply(lambda row: 0 if row['P(C=0)'] >= row['P(C=1)'] else 1, axis=1)\n",
    "\n",
    "from sklearn.metrics import accuracy_score\n",
    "accuracy_score(predicted_probabilities_train_df['Churn_Value'],train_data['Churn_Value'])"
   ]
  },
  {
   "cell_type": "code",
   "execution_count": 18,
   "id": "2fab5284",
   "metadata": {},
   "outputs": [
    {
     "name": "stderr",
     "output_type": "stream",
     "text": [
      "C:\\Users\\HP\\anaconda3\\envs\\Work\\lib\\site-packages\\pgmpy\\models\\BayesianModel.py:8: FutureWarning: BayesianModel has been renamed to BayesianNetwork. Please use BayesianNetwork class, BayesianModel will be removed in future.\n",
      "  warnings.warn(\n"
     ]
    },
    {
     "name": "stdout",
     "output_type": "stream",
     "text": [
      "Predicted probabilities for test_data:\n",
      "        P(C=0)    P(C=1)\n",
      "0     0.086346  0.913654\n",
      "1     0.351532  0.648468\n",
      "2     0.887101  0.112899\n",
      "3     0.077343  0.922657\n",
      "4     0.131211  0.868789\n",
      "...        ...       ...\n",
      "1404  0.870391  0.129609\n",
      "1405  0.022802  0.977198\n",
      "1406  0.447028  0.552972\n",
      "1407  0.974383  0.025617\n",
      "1408  0.066894  0.933106\n",
      "\n",
      "[1409 rows x 2 columns]\n"
     ]
    },
    {
     "data": {
      "text/plain": [
       "0.7331440738112136"
      ]
     },
     "execution_count": 18,
     "metadata": {},
     "output_type": "execute_result"
    }
   ],
   "source": [
    "# Calculate predicted probabilities for test_data\n",
    "predicted_probabilities_test = []\n",
    "for index, row in test_data.iterrows():\n",
    "    evidence = {'Payment_Method_Electronic_check': row['Payment_Method_Electronic_check'], \n",
    "                'Streaming_TV_Yes': row['Streaming_TV_Yes'],\n",
    "                'Internet_Service_Fiber_optic': row['Internet_Service_Fiber_optic'],\n",
    "                'Monthly_Charges_Discrete': row['Monthly_Charges_Discrete'],\n",
    "                'Tech_Support_No': row['Tech_Support_No'],\n",
    "                'Online_Backup_No': row['Online_Backup_No'],\n",
    "                'Online_Security_No': row['Online_Security_No'],\n",
    "                'Multiple_Lines_Yes': row['Multiple_Lines_Yes'],\n",
    "                'Dependents_No': row['Dependents_No'],\n",
    "                'Paperless_Billing_Yes': row['Paperless_Billing_Yes'],\n",
    "                'Contract_Month_to_month': row['Contract_Month_to_month']}\n",
    "    probability = inference.query(variables=['Churn_Value'], evidence=evidence)\n",
    "    predicted_probabilities_test.append(probability.values)\n",
    "\n",
    "predicted_probabilities_test_df = pd.DataFrame(predicted_probabilities_test, columns=['P(C=0)', 'P(C=1)'])\n",
    "print(\"Predicted probabilities for test_data:\")\n",
    "print(predicted_probabilities_test_df)\n",
    "\n",
    "predicted_probabilities_test_df['Churn_Value'] = predicted_probabilities_test_df.apply(lambda row: 0 if row['P(C=0)'] >= row['P(C=1)'] else 1, axis=1)\n",
    "\n",
    "from sklearn.metrics import accuracy_score\n",
    "accuracy_score(predicted_probabilities_test_df['Churn_Value'],test_data['Churn_Value'])"
   ]
  },
  {
   "cell_type": "code",
   "execution_count": null,
   "id": "e8922ff5",
   "metadata": {},
   "outputs": [],
   "source": []
  }
 ],
 "metadata": {
  "kernelspec": {
   "display_name": "Python 3 (ipykernel)",
   "language": "python",
   "name": "python3"
  },
  "language_info": {
   "codemirror_mode": {
    "name": "ipython",
    "version": 3
   },
   "file_extension": ".py",
   "mimetype": "text/x-python",
   "name": "python",
   "nbconvert_exporter": "python",
   "pygments_lexer": "ipython3",
   "version": "3.9.7"
  }
 },
 "nbformat": 4,
 "nbformat_minor": 5
}
